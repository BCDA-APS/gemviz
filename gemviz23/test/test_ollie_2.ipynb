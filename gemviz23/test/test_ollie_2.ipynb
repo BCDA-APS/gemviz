{
 "cells": [
  {
   "cell_type": "code",
   "execution_count": 32,
   "metadata": {},
   "outputs": [],
   "source": [
    "cat1={}\n",
    "cat1['dataset1']={'status':'success', 'plan':'scan_x',  'scan_id':1, 'time': 'sometimestamp','uid':'ef29ee77a6257b789963c7c3'}\n",
    "cat1['dataset2']={'status':'success', 'plan':'rel_scan','scan_id':2, 'time': 'sometimestamp','uid':'a5b495dbb0930e19d2a7fdfs'}\n",
    "cat1['dataset3']={'status':'success', 'plan':'exafs',   'scan_id':10,'time': 'sometimestamp','uid':'cf8ee704e5e5d079c2aaa664'}\n",
    "\n",
    "cat2={}\n",
    "cat2['dataset1']={'status':'success', 'plan':'scan_y',  'scan_id':3, 'time': 'sometimestamp','uid':'815b703bba126ffea26b0b9d'}\n",
    "cat2['dataset2']={'status':'success', 'plan':'ct',      'scan_id':4, 'time': 'sometimestamp','uid':'d8398d2c1129b553e0812689'}\n",
    "cat2['dataset3']={'status':'aborted', 'plan':'xanes',   'scan_id':5, 'time': 'sometimestamp','uid':'5f03341a5f2563f73fab068c'}\n",
    "cat2['dataset4']={'status':'aborted', 'plan':'scan_z',  'scan_id':6, 'time': 'sometimestamp','uid':'cf8ee704e5e5d079c2aaa664'}\n",
    "cat2['dataset5']={'status':'success', 'plan':'exafs',   'scan_id':8, 'time': 'sometimestamp','uid':'4075b3e71529e20626c329df'}\n",
    "\n",
    "cat3={}\n",
    "cat3['dataset1']={'status':'success', 'plan':'scan_th', 'scan_id':1, 'time': 'sometimestamp','uid':'964c81960b5bd2434075b3es'}\n",
    "\n",
    "test_catalogs = {'cat1':cat1,'cat2':cat2,'cat3':cat3}"
   ]
  },
  {
   "cell_type": "code",
   "execution_count": 33,
   "metadata": {},
   "outputs": [],
   "source": [
    "selected_catalogs = 'cat1'\n",
    "selected_id = '2'"
   ]
  },
  {
   "cell_type": "code",
   "execution_count": 34,
   "metadata": {},
   "outputs": [
    {
     "data": {
      "text/plain": [
       "{'dataset1': {'status': 'success',\n",
       "  'plan': 'scan_x',\n",
       "  'scan_id': 1,\n",
       "  'time': 'sometimestamp',\n",
       "  'uid': 'ef29ee77a6257b789963c7c3'},\n",
       " 'dataset2': {'status': 'success',\n",
       "  'plan': 'rel_scan',\n",
       "  'scan_id': 2,\n",
       "  'time': 'sometimestamp',\n",
       "  'uid': 'a5b495dbb0930e19d2a7fdfs'},\n",
       " 'dataset3': {'status': 'success',\n",
       "  'plan': 'exafs',\n",
       "  'scan_id': 10,\n",
       "  'time': 'sometimestamp',\n",
       "  'uid': 'cf8ee704e5e5d079c2aaa664'}}"
      ]
     },
     "execution_count": 34,
     "metadata": {},
     "output_type": "execute_result"
    }
   ],
   "source": [
    "test_catalogs['cat1']"
   ]
  },
  {
   "cell_type": "code",
   "execution_count": 35,
   "metadata": {},
   "outputs": [
    {
     "data": {
      "text/plain": [
       "dict_keys(['dataset1', 'dataset2', 'dataset3'])"
      ]
     },
     "execution_count": 35,
     "metadata": {},
     "output_type": "execute_result"
    }
   ],
   "source": [
    "test_catalogs[selected_catalogs].keys()"
   ]
  },
  {
   "cell_type": "code",
   "execution_count": 36,
   "metadata": {},
   "outputs": [
    {
     "data": {
      "text/plain": [
       "dict_values([{'status': 'success', 'plan': 'scan_x', 'scan_id': 1, 'time': 'sometimestamp', 'uid': 'ef29ee77a6257b789963c7c3'}, {'status': 'success', 'plan': 'rel_scan', 'scan_id': 2, 'time': 'sometimestamp', 'uid': 'a5b495dbb0930e19d2a7fdfs'}, {'status': 'success', 'plan': 'exafs', 'scan_id': 10, 'time': 'sometimestamp', 'uid': 'cf8ee704e5e5d079c2aaa664'}])"
      ]
     },
     "execution_count": 36,
     "metadata": {},
     "output_type": "execute_result"
    }
   ],
   "source": [
    "test_catalogs[selected_catalogs].values()"
   ]
  },
  {
   "cell_type": "code",
   "execution_count": 37,
   "metadata": {},
   "outputs": [
    {
     "data": {
      "text/plain": [
       "dict_items([('dataset1', {'status': 'success', 'plan': 'scan_x', 'scan_id': 1, 'time': 'sometimestamp', 'uid': 'ef29ee77a6257b789963c7c3'}), ('dataset2', {'status': 'success', 'plan': 'rel_scan', 'scan_id': 2, 'time': 'sometimestamp', 'uid': 'a5b495dbb0930e19d2a7fdfs'}), ('dataset3', {'status': 'success', 'plan': 'exafs', 'scan_id': 10, 'time': 'sometimestamp', 'uid': 'cf8ee704e5e5d079c2aaa664'})])"
      ]
     },
     "execution_count": 37,
     "metadata": {},
     "output_type": "execute_result"
    }
   ],
   "source": [
    "test_catalogs[selected_catalogs].items()"
   ]
  },
  {
   "cell_type": "code",
   "execution_count": 38,
   "metadata": {},
   "outputs": [],
   "source": [
    "# We know how the dictionary is set up. Now See if you can access the items within 'database 1' "
   ]
  },
  {
   "cell_type": "code",
   "execution_count": 39,
   "metadata": {},
   "outputs": [
    {
     "name": "stdout",
     "output_type": "stream",
     "text": [
      "dataset1\n",
      "dataset2\n",
      "dataset3\n"
     ]
    }
   ],
   "source": [
    "for keys in test_catalogs[selected_catalogs].keys():\n",
    "    print(keys)"
   ]
  },
  {
   "cell_type": "code",
   "execution_count": 40,
   "metadata": {},
   "outputs": [
    {
     "name": "stdout",
     "output_type": "stream",
     "text": [
      "{'status': 'success', 'plan': 'scan_x', 'scan_id': 1, 'time': 'sometimestamp', 'uid': 'ef29ee77a6257b789963c7c3'}\n",
      "{'status': 'success', 'plan': 'rel_scan', 'scan_id': 2, 'time': 'sometimestamp', 'uid': 'a5b495dbb0930e19d2a7fdfs'}\n",
      "{'status': 'success', 'plan': 'exafs', 'scan_id': 10, 'time': 'sometimestamp', 'uid': 'cf8ee704e5e5d079c2aaa664'}\n"
     ]
    }
   ],
   "source": [
    "for values in test_catalogs[selected_catalogs].values():\n",
    "    print(values)"
   ]
  },
  {
   "cell_type": "code",
   "execution_count": 41,
   "metadata": {},
   "outputs": [
    {
     "name": "stdout",
     "output_type": "stream",
     "text": [
      "keys ='dataset1' + values ={'status': 'success', 'plan': 'scan_x', 'scan_id': 1, 'time': 'sometimestamp', 'uid': 'ef29ee77a6257b789963c7c3'}\n",
      "keys ='dataset2' + values ={'status': 'success', 'plan': 'rel_scan', 'scan_id': 2, 'time': 'sometimestamp', 'uid': 'a5b495dbb0930e19d2a7fdfs'}\n",
      "keys ='dataset3' + values ={'status': 'success', 'plan': 'exafs', 'scan_id': 10, 'time': 'sometimestamp', 'uid': 'cf8ee704e5e5d079c2aaa664'}\n"
     ]
    }
   ],
   "source": [
    "for keys, values in test_catalogs[selected_catalogs].items():\n",
    "    print(f\"{keys =} + {values =}\")\n",
    "\n",
    "#I want to get to the information located within the 'values' portion"
   ]
  },
  {
   "cell_type": "code",
   "execution_count": 42,
   "metadata": {},
   "outputs": [
    {
     "name": "stdout",
     "output_type": "stream",
     "text": [
      "scan_x = success\n",
      "rel_scan = success\n",
      "exafs = success\n"
     ]
    }
   ],
   "source": [
    "for values in test_catalogs[selected_catalogs].values():\n",
    "    print(f\"{values['plan']} = {values['status']}\")"
   ]
  },
  {
   "cell_type": "code",
   "execution_count": 62,
   "metadata": {},
   "outputs": [
    {
     "name": "stdout",
     "output_type": "stream",
     "text": [
      "success\n",
      "aborted\n"
     ]
    }
   ],
   "source": [
    "selected_catalogs = 'cat1'\n",
    "selected_id = '1'\n",
    "\n",
    "def show_success():\n",
    "    for values in test_catalogs[selected_catalogs].values():\n",
    "        if values['scan_id'] == int(selected_id):\n",
    "            print(\"success\")\n",
    "    return\n",
    "\n",
    "show_success()\n",
    "\n",
    "def show_success(selected_catalogs, selected_id):\n",
    "    for values in test_catalogs[selected_catalogs].values():\n",
    "        if values['scan_id'] == int(selected_id):     # selected_id is a str, we need to make it an int to compare to what is in the dictionnary\n",
    "            print(f\"{values['status']}\")\n",
    "\n",
    "show_success('cat2', '5') #Why when I call fo the function it doesnt work"
   ]
  },
  {
   "cell_type": "code",
   "execution_count": 44,
   "metadata": {},
   "outputs": [
    {
     "name": "stdout",
     "output_type": "stream",
     "text": [
      "success\n"
     ]
    }
   ],
   "source": [
    "selected_id = '10'\n",
    "\n",
    "for values in test_catalogs[selected_catalogs].values():\n",
    "  if values['scan_id'] == int(selected_id):     # selected_id is a str, we need to make it an int to compare to what is in the dictionnary\n",
    "        print(f\"{values['status']}\")"
   ]
  },
  {
   "cell_type": "code",
   "execution_count": 54,
   "metadata": {},
   "outputs": [],
   "source": [
    "selected_catalogs = 'cat1'\n",
    "selected_id = '1'\n",
    "\n",
    "def test_function():\n",
    "    for values in test_catalogs[selected_catalogs].values:\n",
    "        print(\"yes\")\n",
    "    return\n",
    "\n"
   ]
  }
 ],
 "metadata": {
  "kernelspec": {
   "display_name": "Python 3",
   "language": "python",
   "name": "python3"
  },
  "language_info": {
   "codemirror_mode": {
    "name": "ipython",
    "version": 3
   },
   "file_extension": ".py",
   "mimetype": "text/x-python",
   "name": "python",
   "nbconvert_exporter": "python",
   "pygments_lexer": "ipython3",
   "version": "3.10.11"
  },
  "orig_nbformat": 4
 },
 "nbformat": 4,
 "nbformat_minor": 2
}
