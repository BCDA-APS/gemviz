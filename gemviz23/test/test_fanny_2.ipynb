{
 "cells": [
  {
   "cell_type": "code",
   "execution_count": 1,
   "metadata": {},
   "outputs": [],
   "source": [
    "cat1={}\n",
    "cat1['dataset1']={'status':'success', 'plan':'scan_x',  'scan_id':1, 'time': 'sometimestamp','uid':'ef29ee77a6257b789963c7c3'}\n",
    "cat1['dataset2']={'status':'success', 'plan':'rel_scan','scan_id':2, 'time': 'sometimestamp','uid':'a5b495dbb0930e19d2a7fdfs'}\n",
    "cat1['dataset3']={'status':'success', 'plan':'exafs',   'scan_id':10,'time': 'sometimestamp','uid':'cf8ee704e5e5d079c2aaa664'}\n",
    "\n",
    "cat2={}\n",
    "cat2['dataset1']={'status':'success', 'plan':'scan_y',  'scan_id':3, 'time': 'sometimestamp','uid':'815b703bba126ffea26b0b9d'}\n",
    "cat2['dataset2']={'status':'success', 'plan':'ct',      'scan_id':4, 'time': 'sometimestamp','uid':'d8398d2c1129b553e0812689'}\n",
    "cat2['dataset3']={'status':'aborted', 'plan':'xanes',   'scan_id':5, 'time': 'sometimestamp','uid':'5f03341a5f2563f73fab068c'}\n",
    "cat2['dataset4']={'status':'aborted', 'plan':'scan_z',  'scan_id':6, 'time': 'sometimestamp','uid':'cf8ee704e5e5d079c2aaa664'}\n",
    "cat2['dataset5']={'status':'success', 'plan':'exafs',   'scan_id':8, 'time': 'sometimestamp','uid':'4075b3e71529e20626c329df'}\n",
    "\n",
    "cat3={}\n",
    "cat3['dataset1']={'status':'success', 'plan':'scan_th', 'scan_id':1, 'time': 'sometimestamp','uid':'964c81960b5bd2434075b3es'}\n",
    "\n",
    "tf = {'cat1':cat1,'cat2':cat2,'cat3':cat3}"
   ]
  },
  {
   "cell_type": "code",
   "execution_count": 25,
   "metadata": {},
   "outputs": [],
   "source": [
    "selected_cat='cat1'\n",
    "selected_id = '2'"
   ]
  },
  {
   "cell_type": "code",
   "execution_count": 8,
   "metadata": {},
   "outputs": [
    {
     "data": {
      "text/plain": [
       "{'dataset1': {'status': 'success',\n",
       "  'plan': 'scan_x',\n",
       "  'scan_id': 1,\n",
       "  'time': 'sometimestamp',\n",
       "  'uid': 'ef29ee77a6257b789963c7c3'},\n",
       " 'dataset2': {'status': 'success',\n",
       "  'plan': 'rel_scan',\n",
       "  'scan_id': 2,\n",
       "  'time': 'sometimestamp',\n",
       "  'uid': 'a5b495dbb0930e19d2a7fdfs'},\n",
       " 'dataset3': {'status': 'success',\n",
       "  'plan': 'exafs',\n",
       "  'scan_id': 10,\n",
       "  'time': 'sometimestamp',\n",
       "  'uid': 'cf8ee704e5e5d079c2aaa664'}}"
      ]
     },
     "execution_count": 8,
     "metadata": {},
     "output_type": "execute_result"
    }
   ],
   "source": [
    "tf[selected_cat]"
   ]
  },
  {
   "cell_type": "code",
   "execution_count": 5,
   "metadata": {},
   "outputs": [
    {
     "data": {
      "text/plain": [
       "dict_keys(['dataset1', 'dataset2', 'dataset3'])"
      ]
     },
     "execution_count": 5,
     "metadata": {},
     "output_type": "execute_result"
    }
   ],
   "source": [
    "tf[selected_cat].keys()"
   ]
  },
  {
   "cell_type": "code",
   "execution_count": 7,
   "metadata": {},
   "outputs": [
    {
     "data": {
      "text/plain": [
       "dict_values([{'status': 'success', 'plan': 'scan_x', 'scan_id': 1, 'time': 'sometimestamp', 'uid': 'ef29ee77a6257b789963c7c3'}, {'status': 'success', 'plan': 'rel_scan', 'scan_id': 2, 'time': 'sometimestamp', 'uid': 'a5b495dbb0930e19d2a7fdfs'}, {'status': 'success', 'plan': 'exafs', 'scan_id': 10, 'time': 'sometimestamp', 'uid': 'cf8ee704e5e5d079c2aaa664'}])"
      ]
     },
     "execution_count": 7,
     "metadata": {},
     "output_type": "execute_result"
    }
   ],
   "source": [
    "tf[selected_cat].values()"
   ]
  },
  {
   "cell_type": "code",
   "execution_count": 12,
   "metadata": {},
   "outputs": [
    {
     "data": {
      "text/plain": [
       "dict_items([('dataset1', {'status': 'success', 'plan': 'scan_x', 'scan_id': 1, 'time': 'sometimestamp', 'uid': 'ef29ee77a6257b789963c7c3'}), ('dataset2', {'status': 'success', 'plan': 'rel_scan', 'scan_id': 2, 'time': 'sometimestamp', 'uid': 'a5b495dbb0930e19d2a7fdfs'}), ('dataset3', {'status': 'success', 'plan': 'exafs', 'scan_id': 10, 'time': 'sometimestamp', 'uid': 'cf8ee704e5e5d079c2aaa664'})])"
      ]
     },
     "execution_count": 12,
     "metadata": {},
     "output_type": "execute_result"
    }
   ],
   "source": [
    "tf[selected_cat].items()"
   ]
  },
  {
   "cell_type": "code",
   "execution_count": 13,
   "metadata": {},
   "outputs": [
    {
     "name": "stdout",
     "output_type": "stream",
     "text": [
      "k = 'dataset1' - v = {'status': 'success', 'plan': 'scan_x', 'scan_id': 1, 'time': 'sometimestamp', 'uid': 'ef29ee77a6257b789963c7c3'}\n",
      "k = 'dataset2' - v = {'status': 'success', 'plan': 'rel_scan', 'scan_id': 2, 'time': 'sometimestamp', 'uid': 'a5b495dbb0930e19d2a7fdfs'}\n",
      "k = 'dataset3' - v = {'status': 'success', 'plan': 'exafs', 'scan_id': 10, 'time': 'sometimestamp', 'uid': 'cf8ee704e5e5d079c2aaa664'}\n"
     ]
    }
   ],
   "source": [
    "for k,v in tf[selected_cat].items():\n",
    "    print(f\"{k = } - {v = }\")"
   ]
  },
  {
   "cell_type": "code",
   "execution_count": 50,
   "metadata": {},
   "outputs": [
    {
     "name": "stdout",
     "output_type": "stream",
     "text": [
      "v = {'status': 'success', 'plan': 'scan_x', 'scan_id': 1, 'time': 'sometimestamp', 'uid': 'ef29ee77a6257b789963c7c3'}\n",
      "v = {'status': 'success', 'plan': 'rel_scan', 'scan_id': 2, 'time': 'sometimestamp', 'uid': 'a5b495dbb0930e19d2a7fdfs'}\n",
      "v = {'status': 'success', 'plan': 'exafs', 'scan_id': 10, 'time': 'sometimestamp', 'uid': 'cf8ee704e5e5d079c2aaa664'}\n"
     ]
    }
   ],
   "source": [
    "# we actually don't care about the corresponding key ('datasetX'), only which value \"v\" contains the info we care about:\n",
    "for v in tf[selected_cat].values():\n",
    "    print(f\"{v = }\")"
   ]
  },
  {
   "cell_type": "code",
   "execution_count": 53,
   "metadata": {},
   "outputs": [
    {
     "name": "stdout",
     "output_type": "stream",
     "text": [
      "v['scan_id'] = 1 - v['status'] = 'success'\n",
      "v['scan_id'] = 2 - v['status'] = 'success'\n",
      "v['scan_id'] = 10 - v['status'] = 'success'\n"
     ]
    }
   ],
   "source": [
    "for v in tf[selected_cat].values():\n",
    "    print(f\"{v['scan_id'] = } - {v['status'] = }\")"
   ]
  },
  {
   "cell_type": "code",
   "execution_count": 54,
   "metadata": {},
   "outputs": [
    {
     "name": "stdout",
     "output_type": "stream",
     "text": [
      "success\n"
     ]
    }
   ],
   "source": [
    "selected_cat='cat1'\n",
    "selected_id = '1'\n",
    "\n",
    "for v in tf[selected_cat].values():\n",
    "    if v['scan_id'] == int(selected_id):     # selected_id is a str, we need to make it an int to compare to what is in the dictionnary\n",
    "        print(f\"{v['status']}\")"
   ]
  },
  {
   "cell_type": "code",
   "execution_count": 57,
   "metadata": {},
   "outputs": [],
   "source": [
    "selected_cat='cat1'\n",
    "selected_id = '4'\n",
    "\n",
    "for v in tf[selected_cat].values():\n",
    "    if v['scan_id'] == int(selected_id):\n",
    "        print(f\"{v['status']}\")"
   ]
  },
  {
   "cell_type": "code",
   "execution_count": null,
   "metadata": {},
   "outputs": [],
   "source": [
    "# this one does not do anything since there is no scan_id value equal to 4."
   ]
  },
  {
   "cell_type": "code",
   "execution_count": 67,
   "metadata": {},
   "outputs": [
    {
     "name": "stdout",
     "output_type": "stream",
     "text": [
      "aborted\n"
     ]
    }
   ],
   "source": [
    "# let's change calatog now:\n",
    "\n",
    "selected_cat='cat2'\n",
    "selected_id = '5'\n",
    "\n",
    "for v in tf[selected_cat].values():\n",
    "    if v['scan_id'] == int(selected_id):\n",
    "        print(f\"{v['status']}\")"
   ]
  },
  {
   "cell_type": "code",
   "execution_count": null,
   "metadata": {},
   "outputs": [],
   "source": [
    "# cat2 scan_id=5 does return aborted!"
   ]
  },
  {
   "cell_type": "code",
   "execution_count": 63,
   "metadata": {},
   "outputs": [],
   "source": [
    "# so if we know selected_cat (selected by user in InputBox1) and selected_id (selected by user in InputBox2), \n",
    "# we can determine the corresponding value for key='status' in that same dictionary; \n",
    "# we can make it a list comprehension to make it faster/fancier:"
   ]
  },
  {
   "cell_type": "code",
   "execution_count": 68,
   "metadata": {},
   "outputs": [
    {
     "name": "stdout",
     "output_type": "stream",
     "text": [
      "mystatus = ['aborted']\n"
     ]
    }
   ],
   "source": [
    "selected_cat='cat2'\n",
    "selected_id = '5'\n",
    "\n",
    "mystatus= [v['status'] for v in tf[selected_cat].values() if v['scan_id'] == int(selected_id)]\n",
    "print(f\"{mystatus = }\")"
   ]
  },
  {
   "cell_type": "code",
   "execution_count": 69,
   "metadata": {},
   "outputs": [],
   "source": [
    "# it does return a list though, but you can extract the first element from a list very easily:"
   ]
  },
  {
   "cell_type": "code",
   "execution_count": 70,
   "metadata": {},
   "outputs": [
    {
     "name": "stdout",
     "output_type": "stream",
     "text": [
      "mystatus[0] = 'aborted'\n"
     ]
    }
   ],
   "source": [
    "selected_cat='cat2'\n",
    "selected_id = '5'\n",
    "\n",
    "mystatus= [v['status'] for v in tf[selected_cat].values() if v['scan_id'] == int(selected_id)]\n",
    "print(f\"{mystatus[0] = }\")"
   ]
  },
  {
   "cell_type": "code",
   "execution_count": null,
   "metadata": {},
   "outputs": [],
   "source": []
  }
 ],
 "metadata": {
  "kernelspec": {
   "display_name": "bluesky_2023_2",
   "language": "python",
   "name": "python3"
  },
  "language_info": {
   "codemirror_mode": {
    "name": "ipython",
    "version": 3
   },
   "file_extension": ".py",
   "mimetype": "text/x-python",
   "name": "python",
   "nbconvert_exporter": "python",
   "pygments_lexer": "ipython3",
   "version": "3.10.11"
  },
  "orig_nbformat": 4
 },
 "nbformat": 4,
 "nbformat_minor": 2
}
