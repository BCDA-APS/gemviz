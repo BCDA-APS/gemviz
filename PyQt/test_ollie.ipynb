{
 "cells": [
  {
   "cell_type": "code",
   "execution_count": 30,
   "metadata": {},
   "outputs": [
    {
     "name": "stdout",
     "output_type": "stream",
     "text": [
      "\n",
      "\n",
      "Print all the available \"runs\" from the selected catalog:\n",
      "\n",
      "keys = 'dataset1'\n",
      "keys = 'dataset2'\n",
      "keys = 'dataset3'\n",
      "keys = 'dataset4'\n",
      "keys = 'dataset5'\n",
      "\n",
      "\n",
      "Print all the content of each of those \"runs\":\n",
      "\n",
      "dataset1 = {'status': 'success', 'plan': 'scan_y', 'scan_id': 3, 'time': 'sometimestamp', 'uid': '815b703bba126ffea26b0b9d'}\n",
      "dataset2 = {'status': 'success', 'plan': 'ct', 'scan_id': 4, 'time': 'sometimestamp', 'uid': 'd8398d2c1129b553e0812689'}\n",
      "dataset3 = {'status': 'aborted', 'plan': 'xanes', 'scan_id': 5, 'time': 'sometimestamp', 'uid': '5f03341a5f2563f73fab068c'}\n",
      "dataset4 = {'status': 'aborted', 'plan': 'scan_z', 'scan_id': 6, 'time': 'sometimestamp', 'uid': 'cf8ee704e5e5d079c2aaa664'}\n",
      "dataset5 = {'status': 'success', 'plan': 'exafs', 'scan_id': 8, 'time': 'sometimestamp', 'uid': '4075b3e71529e20626c329df'}\n",
      "dataset1 - uid = 4075b3e71529e20626c329df\n",
      "dataset2 - uid = 4075b3e71529e20626c329df\n",
      "dataset3 - uid = 4075b3e71529e20626c329df\n",
      "dataset4 - uid = 4075b3e71529e20626c329df\n",
      "dataset5 - uid = 4075b3e71529e20626c329df\n",
      "dataset1 - uid = 4075b3e71529e20626c329df\n",
      "dataset2 - uid = 4075b3e71529e20626c329df\n",
      "dataset3 - uid = 4075b3e71529e20626c329df\n",
      "dataset4 - uid = 4075b3e71529e20626c329df\n",
      "dataset5 - uid = 4075b3e71529e20626c329df\n",
      "scan_id_list_1 = ['4075b3e71529e20626c329df', '4075b3e71529e20626c329df', '4075b3e71529e20626c329df', '4075b3e71529e20626c329df', '4075b3e71529e20626c329df']\n",
      "scan_id_list_2 = ['815b703bba126ffea26b0b9d', 'd8398d2c1129b553e0812689', '5f03341a5f2563f73fab068c', 'cf8ee704e5e5d079c2aaa664', '4075b3e71529e20626c329df']\n"
     ]
    }
   ],
   "source": [
    "from test_infomation_database import test_catalog_2\n",
    "\n",
    "def test_function():\n",
    "    return (test_catalog_2)\n",
    "\n",
    "\n",
    "tf = test_function()\n",
    "\n",
    "thekeyfromthepulldownmenu='cat2'\n",
    "selected_catalog=tf[thekeyfromthepulldownmenu]\n",
    "\n",
    "print('\\n\\nPrint all the available \"runs\" from the selected catalog:\\n')\n",
    "\n",
    "for keys in selected_catalog.keys():\n",
    "    print(f\"{keys = }\")\n",
    "\n",
    "print('\\n\\nPrint all the content of each of those \"runs\":\\n')\n",
    "\n",
    "for keys in selected_catalog.keys():\n",
    "    dataset_content=selected_catalog[keys]\n",
    "    print(f\"{keys} = {dataset_content}\")\n",
    "    \n",
    "    \n",
    "for keys in selected_catalog.keys():\n",
    "    dataset_content=selected_catalog[k]\n",
    "    uid=dataset_content['uid']   \n",
    "    print(f\"{keys} - uid = {uid}\")\n",
    "    \n",
    "#or in a more concise fashion - gives the exact same result as above:\n",
    "for keys in selected_catalog.keys():\n",
    "    uid=selected_catalog[k]['uid']   \n",
    "    print(f\"{keys} - uid = {uid}\")\n",
    "\n",
    "\n",
    "\n",
    "scan_id_list_1=[]\n",
    "for keys in selected_catalog.keys():\n",
    "    scan_id_list_1.append(selected_catalog[k]['uid'])\n",
    "\n",
    "print(f\"{scan_id_list_1 = }\")\n",
    "\n",
    "scan_id_list_2=[str(selected_catalog[k]['uid']) for k in selected_catalog.keys()]\n",
    "\n",
    "print(f\"{scan_id_list_2 = }\")\n"
   ]
  }
 ],
 "metadata": {
  "kernelspec": {
   "display_name": "base",
   "language": "python",
   "name": "python3"
  },
  "language_info": {
   "codemirror_mode": {
    "name": "ipython",
    "version": 3
   },
   "file_extension": ".py",
   "mimetype": "text/x-python",
   "name": "python",
   "nbconvert_exporter": "python",
   "pygments_lexer": "ipython3",
   "version": "3.10.11"
  },
  "orig_nbformat": 4
 },
 "nbformat": 4,
 "nbformat_minor": 2
}
